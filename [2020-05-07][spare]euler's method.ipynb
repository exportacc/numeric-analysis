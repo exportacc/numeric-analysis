{
 "cells": [
  {
   "cell_type": "code",
   "execution_count": 111,
   "metadata": {
    "ExecuteTime": {
     "end_time": "2020-05-07T13:18:27.596845Z",
     "start_time": "2020-05-07T13:18:27.254881Z"
    }
   },
   "outputs": [
    {
     "name": "stdout",
     "output_type": "stream",
     "text": [
      "1.00 \t 2.71801001 \t 2.71792411 \t 8.590e-05\n"
     ]
    }
   ],
   "source": [
    "import numpy as np\n",
    "f = lambda x : np.exp(x) # equal to fx or fxx ...\n",
    "\n",
    "t0 , tn , n = 0 , 1 , 10000\n",
    "dt = (tn - t0) / n\n",
    "t = np.linspace(t0,tn,n+1)\n",
    "w = np.zeros(n+1)\n",
    "\n",
    "w[0] = 1   # 預設值 y(0) = 1 \n",
    "for i in range(n):\n",
    "    w[i+1] = w[i] + f(t[i]) * dt \n",
    "print('{:.2f} \\t {:.8f} \\t {:.8f} \\t {:.3e}'.format(t[i],f(t[i]),w[i],abs(f(t[i])-w[i])))\n",
    "# print('{:.2f} \\t {:.8f} \\t {:.8f} \\t {:.8f}'.format(t[n],f(t[n]),w[n],abs(f(t[i])-w[i])))"
   ]
  },
  {
   "cell_type": "code",
   "execution_count": 112,
   "metadata": {
    "ExecuteTime": {
     "end_time": "2020-05-07T13:18:27.929044Z",
     "start_time": "2020-05-07T13:18:27.643722Z"
    }
   },
   "outputs": [
    {
     "data": {
      "image/png": "[encoded data removed]",
      "text/plain": [
       "<Figure size 432x288 with 1 Axes>"
      ]
     },
     "metadata": {},
     "output_type": "display_data"
    }
   ],
   "source": [
    "import matplotlib.pyplot as pt\n",
    "from matplotlib import style\n",
    "style.use('ggplot')\n",
    "\n",
    "pt.plot(t,f(t),'b--',label='y')\n",
    "pt.plot(t,w,'y-',label='w')\n",
    "pt.plot(t,abs(f(t)-w),label='error')\n",
    "pt.legend()\n",
    "pt.show()"
   ]
  },
  {
   "cell_type": "code",
   "execution_count": 113,
   "metadata": {
    "ExecuteTime": {
     "end_time": "2020-05-07T13:18:43.504929Z",
     "start_time": "2020-05-07T13:18:43.484983Z"
    },
    "scrolled": true
   },
   "outputs": [
    {
     "name": "stdout",
     "output_type": "stream",
     "text": [
      "1.00 \t 0.20000000 \t 0.36665000 \t 1.666e-01\n"
     ]
    }
   ],
   "source": [
    "import numpy as np\n",
    "f = lambda x : x*(1-x)\n",
    "y = lambda x : 0.2 * np.exp(x*(1-x))\n",
    "t0 , tn , n = 0 , 1 , 10000\n",
    "dt = (tn - t0) / n\n",
    "t = np.linspace(t0,tn,n)\n",
    "w = np.zeros(n+1)\n",
    "\n",
    "w[0] = 0.2  # 預設值 y(0) = 1 \n",
    "for i in range(n):\n",
    "    w[i+1] = w[i] + f(t[i]) * dt \n",
    "print('{:.2f} \\t {:.8f} \\t {:.8f} \\t {:.3e}'.format(t[i],y(t[i]),w[i],abs(y(t[i])-w[i])))\n",
    "# print('{:.2f} \\t {:.8f} \\t {:.8f} \\t {:.8f}'.format(t[n],f(t[n]),w[n],abs(f(t[i])-w[i])))"
   ]
  },
  {
   "cell_type": "code",
   "execution_count": 114,
   "metadata": {
    "ExecuteTime": {
     "end_time": "2020-05-07T13:18:49.435209Z",
     "start_time": "2020-05-07T13:18:49.415230Z"
    },
    "scrolled": true
   },
   "outputs": [
    {
     "name": "stdout",
     "output_type": "stream",
     "text": [
      "1.0000 \t 0.833299996666\n"
     ]
    }
   ],
   "source": [
    "import numpy as np\n",
    "f = lambda x : 2*x*(1-x)\n",
    "t0 , tn , n = 0 , 1 , 10000\n",
    "dt = (tn - t0) / n\n",
    "t = np.linspace(t0,tn,n)\n",
    "w = np.zeros(n+1)\n",
    "\n",
    "w[0] = 0.5   # 預設值 y(0) = 1 \n",
    "for i in range(n):\n",
    "    w[i+1] = w[i] + f(t[i]) * dt\n",
    "print('{:.4f} \\t {:.12f}'.format(t[i],w[i]))\n",
    "#     print('{:.2f} \\t {:.8f} \\t {:.8f} \\t {:.3e}'.format(t[i],y(t[i]),w[i],abs(y(t[i])-w[i])))\n",
    "# print('{:.2f} \\t {:.8f} \\t {:.8f} \\t {:.8f}'.format(t[n],f(t[n]),w[n],abs(f(t[i])-w[i])))"
   ]
  },
  {
   "cell_type": "code",
   "execution_count": 115,
   "metadata": {
    "ExecuteTime": {
     "end_time": "2020-05-07T13:18:54.108340Z",
     "start_time": "2020-05-07T13:18:53.926825Z"
    }
   },
   "outputs": [
    {
     "name": "stdout",
     "output_type": "stream",
     "text": [
      "1.00 \t 0.99997735\n"
     ]
    },
    {
     "data": {
      "text/plain": [
       "[<matplotlib.lines.Line2D at 0x20f0f731e48>]"
      ]
     },
     "execution_count": 115,
     "metadata": {},
     "output_type": "execute_result"
    },
    {
     "data": {
      "image/png": "[encoded data removed]",
      "text/plain": [
       "<Figure size 432x288 with 1 Axes>"
      ]
     },
     "metadata": {},
     "output_type": "display_data"
    }
   ],
   "source": [
    "import numpy as np\n",
    "f = lambda x : 10*(1-x)\n",
    "t0 , tn , n = 0 , 1 , 20000\n",
    "dt = (tn - t0) / n\n",
    "t = np.linspace(t0,tn,n+1)\n",
    "w = np.zeros(n+1)\n",
    "\n",
    "w[0] = 0.5   # 預設值 y(0) = 1 \n",
    "for i in range(n):\n",
    "    w[i+1] = w[i] + f(w[i]) * dt\n",
    "print('{:.2f} \\t {:.8f}'.format(t[i],w[i]))\n",
    "    \n",
    "pt.plot(t,w)"
   ]
  },
  {
   "cell_type": "code",
   "execution_count": 116,
   "metadata": {
    "ExecuteTime": {
     "end_time": "2020-05-07T13:19:15.646708Z",
     "start_time": "2020-05-07T13:19:14.478346Z"
    },
    "scrolled": true
   },
   "outputs": [
    {
     "name": "stdout",
     "output_type": "stream",
     "text": [
      "1.00000 \t 5.00000000 \t 5.50000500 \t 0.50000500\n"
     ]
    }
   ],
   "source": [
    "import numpy as np\n",
    "f = lambda x : 10*(1-x)\n",
    "y = lambda x : 10 * (x - x**2 / 2) # 自己求真實解\n",
    "t0 , tn , n = 0 , 1 , 1000000\n",
    "dt = (tn - t0) / n\n",
    "t = np.linspace(t0,tn,n+1)\n",
    "w = np.zeros(n+1)\n",
    "\n",
    "w[0] = 0.5   # 預設值 y(0) = 1 \n",
    "# print('T \\t Value \\t\\t Approximate_Value \\t Error')\n",
    "for i in range(n):\n",
    "    w[i+1] = w[i] + f(t[i]) * dt\n",
    "#     print('{:.2f} \\t {:.8f}'.format(t[i],w[i]))\n",
    "print('{:.5f} \\t {:.8f} \\t {:.8f} \\t {:.8f}'.format(t[i],y(t[i]),w[i],abs(y(t[i])-w[i])))"
   ]
  },
  {
   "cell_type": "code",
   "execution_count": 117,
   "metadata": {
    "ExecuteTime": {
     "end_time": "2020-05-07T13:19:31.812543Z",
     "start_time": "2020-05-07T13:19:28.727915Z"
    }
   },
   "outputs": [
    {
     "name": "stderr",
     "output_type": "stream",
     "text": [
      "C:\\Users\\User\\Anaconda3\\lib\\site-packages\\IPython\\core\\pylabtools.py:128: UserWarning: Creating legend with loc=\"best\" can be slow with large amounts of data.\n",
      "  fig.canvas.print_figure(bytes_io, **kw)\n"
     ]
    },
    {
     "data": {
      "image/png": "[encoded data removed]",
      "text/plain": [
       "<Figure size 432x288 with 1 Axes>"
      ]
     },
     "metadata": {},
     "output_type": "display_data"
    }
   ],
   "source": [
    "import matplotlib.pyplot as pt\n",
    "from matplotlib import style\n",
    "style.use('ggplot')\n",
    "\n",
    "pt.plot(t,y(t),'',label='y')\n",
    "pt.plot(t,w,'',label='w')\n",
    "pt.plot(t,abs(y(t)-w),label='error')\n",
    "pt.legend()\n",
    "pt.show()"
   ]
  },
  {
   "cell_type": "code",
   "execution_count": 118,
   "metadata": {
    "ExecuteTime": {
     "end_time": "2020-05-07T13:19:33.786890Z",
     "start_time": "2020-05-07T13:19:33.363220Z"
    }
   },
   "outputs": [
    {
     "data": {
      "text/plain": [
       "[<matplotlib.lines.Line2D at 0x20f14945388>]"
      ]
     },
     "execution_count": 118,
     "metadata": {},
     "output_type": "execute_result"
    },
    {
     "data": {
      "image/png": "[encoded data removed]",
      "text/plain": [
       "<Figure size 432x288 with 1 Axes>"
      ]
     },
     "metadata": {},
     "output_type": "display_data"
    }
   ],
   "source": [
    "pt.plot(t,abs(y(t)-w),label='error')"
   ]
  },
  {
   "cell_type": "code",
   "execution_count": 119,
   "metadata": {
    "ExecuteTime": {
     "end_time": "2020-05-07T13:19:37.843507Z",
     "start_time": "2020-05-07T13:19:37.433567Z"
    }
   },
   "outputs": [
    {
     "data": {
      "text/plain": [
       "[<matplotlib.lines.Line2D at 0x20f1491a0c8>]"
      ]
     },
     "execution_count": 119,
     "metadata": {},
     "output_type": "execute_result"
    },
    {
     "data": {
      "image/png": "[encoded data removed]",
      "text/plain": [
       "<Figure size 432x288 with 1 Axes>"
      ]
     },
     "metadata": {},
     "output_type": "display_data"
    }
   ],
   "source": [
    "pt.plot(t,y(t))"
   ]
  },
  {
   "cell_type": "code",
   "execution_count": 120,
   "metadata": {
    "ExecuteTime": {
     "end_time": "2020-05-07T13:19:51.463117Z",
     "start_time": "2020-05-07T13:19:50.297235Z"
    }
   },
   "outputs": [
    {
     "name": "stdout",
     "output_type": "stream",
     "text": [
      "1.00000 \t 0.99997730\n"
     ]
    }
   ],
   "source": [
    "import numpy as np\n",
    "f = lambda x : 10*(1-x)\n",
    "y = lambda x : 10 * (x - x**2 / 2) # 自己求真實解\n",
    "t0 , tn , n = 0 , 1 , 1000000\n",
    "dt = (tn - t0) / n\n",
    "t = np.linspace(t0,tn,n+1)\n",
    "w = np.zeros(n+1)\n",
    "\n",
    "w[0] = 0.5   # 預設值 y(0) = 1 \n",
    "# print('T \\t Value \\t\\t Approximate_Value \\t Error')\n",
    "for i in range(n):\n",
    "    w[i+1] = w[i] + f(w[i]) * dt\n",
    "#     print('{:.2f} \\t {:.8f}'.format(t[i],w[i]))\n",
    "print('{:.5f} \\t {:.8f}'.format(t[i],w[i]))"
   ]
  },
  {
   "cell_type": "code",
   "execution_count": 121,
   "metadata": {
    "ExecuteTime": {
     "end_time": "2020-05-07T13:19:53.697615Z",
     "start_time": "2020-05-07T13:19:53.403402Z"
    }
   },
   "outputs": [
    {
     "data": {
      "image/png": "[encoded data removed]",
      "text/plain": [
       "<Figure size 432x288 with 1 Axes>"
      ]
     },
     "metadata": {},
     "output_type": "display_data"
    }
   ],
   "source": [
    "pt.plot(t,w)\n",
    "pt.show()"
   ]
  },
  {
   "cell_type": "code",
   "execution_count": null,
   "metadata": {},
   "outputs": [],
   "source": []
  }
 ],
 "metadata": {
  "hide_input": false,
  "kernelspec": {
   "display_name": "Python 3",
   "language": "python",
   "name": "python3"
  },
  "language_info": {
   "codemirror_mode": {
    "name": "ipython",
    "version": 3
   },
   "file_extension": ".py",
   "mimetype": "text/x-python",
   "name": "python",
   "nbconvert_exporter": "python",
   "pygments_lexer": "ipython3",
   "version": "3.7.4"
  },
  "toc": {
   "base_numbering": 1,
   "nav_menu": {},
   "number_sections": true,
   "sideBar": true,
   "skip_h1_title": false,
   "title_cell": "Table of Contents",
   "title_sidebar": "Contents",
   "toc_cell": false,
   "toc_position": {},
   "toc_section_display": true,
   "toc_window_display": false
  },
  "varInspector": {
   "cols": {
    "lenName": 16,
    "lenType": 16,
    "lenVar": 40
   },
   "kernels_config": {
    "python": {
     "delete_cmd_postfix": "",
     "delete_cmd_prefix": "del ",
     "library": "var_list.py",
     "varRefreshCmd": "print(var_dic_list())"
    },
    "r": {
     "delete_cmd_postfix": ") ",
     "delete_cmd_prefix": "rm(",
     "library": "var_list.r",
     "varRefreshCmd": "cat(var_dic_list()) "
    }
   },
   "types_to_exclude": [
    "module",
    "function",
    "builtin_function_or_method",
    "instance",
    "_Feature"
   ],
   "window_display": false
  }
 },
 "nbformat": 4,
 "nbformat_minor": 2
}
